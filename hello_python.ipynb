{
 "cells": [
  {
   "cell_type": "markdown",
   "id": "973bce3f",
   "metadata": {
    "papermill": {
     "duration": 0.007433,
     "end_time": "2024-02-26T23:34:55.464804",
     "exception": false,
     "start_time": "2024-02-26T23:34:55.457371",
     "status": "completed"
    },
    "tags": []
   },
   "source": [
    "**This notebook is an exercise in the [Python](https://www.kaggle.com/learn/python) course.  You can reference the tutorial at [this link](https://www.kaggle.com/colinmorris/hello-python).**\n",
    "\n",
    "---\n"
   ]
  },
  {
   "cell_type": "markdown",
   "id": "29722726",
   "metadata": {
    "papermill": {
     "duration": 0.006329,
     "end_time": "2024-02-26T23:34:55.478125",
     "exception": false,
     "start_time": "2024-02-26T23:34:55.471796",
     "status": "completed"
    },
    "tags": []
   },
   "source": [
    "Welcome to your first set of Python coding problems.  If this is your first time using Kaggle Notebooks, welcome! \n",
    "\n",
    "Notebooks are composed of blocks (called \"cells\") of text and code. Each of these is editable, though you'll mainly be editing the code cells to answer some questions.\n",
    "\n",
    "To get started, try running the code cell below (by pressing the ► button, or clicking on the cell and pressing ctrl+enter on your keyboard)."
   ]
  },
  {
   "cell_type": "code",
   "execution_count": 1,
   "id": "97719a70",
   "metadata": {
    "execution": {
     "iopub.execute_input": "2024-02-26T23:34:55.493661Z",
     "iopub.status.busy": "2024-02-26T23:34:55.492868Z",
     "iopub.status.idle": "2024-02-26T23:34:55.505260Z",
     "shell.execute_reply": "2024-02-26T23:34:55.504365Z"
    },
    "papermill": {
     "duration": 0.023125,
     "end_time": "2024-02-26T23:34:55.508033",
     "exception": false,
     "start_time": "2024-02-26T23:34:55.484908",
     "status": "completed"
    },
    "tags": []
   },
   "outputs": [
    {
     "name": "stdout",
     "output_type": "stream",
     "text": [
      "You've successfully run some Python code\n",
      "Congratulations!\n"
     ]
    }
   ],
   "source": [
    "print(\"You've successfully run some Python code\")\n",
    "print(\"Congratulations!\")"
   ]
  },
  {
   "cell_type": "markdown",
   "id": "34ffd975",
   "metadata": {
    "papermill": {
     "duration": 0.006334,
     "end_time": "2024-02-26T23:34:55.521513",
     "exception": false,
     "start_time": "2024-02-26T23:34:55.515179",
     "status": "completed"
    },
    "tags": []
   },
   "source": [
    "Try adding another line of code in the cell above and re-running it. \n",
    "\n",
    "Now let's get a little fancier:  Add a new code cell by clicking on an existing code cell, hitting the escape key, and then hitting the `a` or `b` key.  The `a` key will add a cell above the current cell, and `b` adds a cell below.\n",
    "\n",
    "Great! Now you know how to use Notebooks.\n",
    "\n",
    "Each hands-on exercise starts by setting up our feedback and code checking mechanism. Run the code cell below to do that. Then you'll be ready to move on to question 0."
   ]
  },
  {
   "cell_type": "code",
   "execution_count": 2,
   "id": "816bd9ee",
   "metadata": {
    "_kg_hide-input": true,
    "_kg_hide-output": true,
    "execution": {
     "iopub.execute_input": "2024-02-26T23:34:55.536985Z",
     "iopub.status.busy": "2024-02-26T23:34:55.536251Z",
     "iopub.status.idle": "2024-02-26T23:34:56.506714Z",
     "shell.execute_reply": "2024-02-26T23:34:56.505429Z"
    },
    "papermill": {
     "duration": 0.980959,
     "end_time": "2024-02-26T23:34:56.509143",
     "exception": false,
     "start_time": "2024-02-26T23:34:55.528184",
     "status": "completed"
    },
    "tags": []
   },
   "outputs": [
    {
     "name": "stdout",
     "output_type": "stream",
     "text": [
      "Setup complete! You're ready to start question 0.\n"
     ]
    }
   ],
   "source": [
    "from learntools.core import binder; binder.bind(globals())\n",
    "from learntools.python.ex1 import *\n",
    "print(\"Setup complete! You're ready to start question 0.\")"
   ]
  },
  {
   "cell_type": "markdown",
   "id": "96373fac",
   "metadata": {
    "papermill": {
     "duration": 0.00664,
     "end_time": "2024-02-26T23:34:56.522783",
     "exception": false,
     "start_time": "2024-02-26T23:34:56.516143",
     "status": "completed"
    },
    "tags": []
   },
   "source": [
    "# 0.\n",
    "\n",
    "*This is a silly question intended as an introduction to the format we use for hands-on exercises throughout all Kaggle courses.*\n",
    "\n",
    "**What is your favorite color? **\n",
    "\n",
    "To complete this question, create a variable called `color` in the cell below with an appropriate value. The function call `q0.check()` (which we've already provided in the cell below) will check your answer."
   ]
  },
  {
   "cell_type": "code",
   "execution_count": 3,
   "id": "af90cca1",
   "metadata": {
    "execution": {
     "iopub.execute_input": "2024-02-26T23:34:56.538346Z",
     "iopub.status.busy": "2024-02-26T23:34:56.537802Z",
     "iopub.status.idle": "2024-02-26T23:34:56.547633Z",
     "shell.execute_reply": "2024-02-26T23:34:56.546584Z"
    },
    "papermill": {
     "duration": 0.020203,
     "end_time": "2024-02-26T23:34:56.549843",
     "exception": false,
     "start_time": "2024-02-26T23:34:56.529640",
     "status": "completed"
    },
    "tags": []
   },
   "outputs": [
    {
     "data": {
      "application/javascript": [
       "parent.postMessage({\"jupyterEvent\": \"custom.exercise_interaction\", \"data\": {\"outcomeType\": 1, \"valueTowardsCompletion\": 0.25, \"interactionType\": 1, \"questionType\": 2, \"questionId\": \"0_ExerciseFormatTutorial\", \"learnToolsVersion\": \"0.3.4\", \"failureMessage\": \"\", \"exceptionClass\": \"\", \"trace\": \"\"}}, \"*\")"
      ],
      "text/plain": [
       "<IPython.core.display.Javascript object>"
      ]
     },
     "metadata": {},
     "output_type": "display_data"
    },
    {
     "data": {
      "text/markdown": [
       "<span style=\"color:#33cc33\">Correct:</span> What?! You got it right without needing a hint or anything? Drats. Well hey, you should still continue to the next step to get some practice asking for a hint and checking solutions. (Even though you obviously don't need any help here.)"
      ],
      "text/plain": [
       "Correct: What?! You got it right without needing a hint or anything? Drats. Well hey, you should still continue to the next step to get some practice asking for a hint and checking solutions. (Even though you obviously don't need any help here.)"
      ]
     },
     "metadata": {},
     "output_type": "display_data"
    }
   ],
   "source": [
    "color = \"blue\"\n",
    "\n",
    "q0.check()"
   ]
  },
  {
   "cell_type": "markdown",
   "id": "3fe9cbfa",
   "metadata": {
    "papermill": {
     "duration": 0.006574,
     "end_time": "2024-02-26T23:34:56.563565",
     "exception": false,
     "start_time": "2024-02-26T23:34:56.556991",
     "status": "completed"
    },
    "tags": []
   },
   "source": [
    "Didn't get the right answer? How do you not even know your own favorite color?!\n",
    "\n",
    "Delete the `#` in the line below to make one of the lines run. You can choose between getting a hint or the full answer by choosing which line to remove the `#` from. \n",
    "\n",
    "Removing the `#` is called uncommenting, because it changes that line from a \"comment\" which Python doesn't run to code, which Python does run."
   ]
  },
  {
   "cell_type": "code",
   "execution_count": 4,
   "id": "b91b8af9",
   "metadata": {
    "execution": {
     "iopub.execute_input": "2024-02-26T23:34:56.580203Z",
     "iopub.status.busy": "2024-02-26T23:34:56.579772Z",
     "iopub.status.idle": "2024-02-26T23:34:56.592808Z",
     "shell.execute_reply": "2024-02-26T23:34:56.591743Z"
    },
    "papermill": {
     "duration": 0.023626,
     "end_time": "2024-02-26T23:34:56.595043",
     "exception": false,
     "start_time": "2024-02-26T23:34:56.571417",
     "status": "completed"
    },
    "tags": []
   },
   "outputs": [
    {
     "data": {
      "application/javascript": [
       "parent.postMessage({\"jupyterEvent\": \"custom.exercise_interaction\", \"data\": {\"interactionType\": 2, \"questionType\": 2, \"questionId\": \"0_ExerciseFormatTutorial\", \"learnToolsVersion\": \"0.3.4\", \"valueTowardsCompletion\": 0.0, \"failureMessage\": \"\", \"exceptionClass\": \"\", \"trace\": \"\", \"outcomeType\": 4}}, \"*\")"
      ],
      "text/plain": [
       "<IPython.core.display.Javascript object>"
      ]
     },
     "metadata": {},
     "output_type": "display_data"
    },
    {
     "data": {
      "text/markdown": [
       "<span style=\"color:#3366cc\">Hint:</span> Your favorite color rhymes with *glue*."
      ],
      "text/plain": [
       "Hint: Your favorite color rhymes with *glue*."
      ]
     },
     "metadata": {},
     "output_type": "display_data"
    },
    {
     "data": {
      "application/javascript": [
       "parent.postMessage({\"jupyterEvent\": \"custom.exercise_interaction\", \"data\": {\"interactionType\": 3, \"questionType\": 2, \"questionId\": \"0_ExerciseFormatTutorial\", \"learnToolsVersion\": \"0.3.4\", \"valueTowardsCompletion\": 0.0, \"failureMessage\": \"\", \"exceptionClass\": \"\", \"trace\": \"\", \"outcomeType\": 4}}, \"*\")"
      ],
      "text/plain": [
       "<IPython.core.display.Javascript object>"
      ]
     },
     "metadata": {},
     "output_type": "display_data"
    },
    {
     "data": {
      "text/markdown": [
       "<span style=\"color:#33cc99\">Solution:</span> \n",
       "```python\n",
       "color = \"blue\"\n",
       "```"
      ],
      "text/plain": [
       "Solution: \n",
       "```python\n",
       "color = \"blue\"\n",
       "```"
      ]
     },
     "metadata": {},
     "output_type": "display_data"
    }
   ],
   "source": [
    "q0.hint()\n",
    "q0.solution()"
   ]
  },
  {
   "cell_type": "markdown",
   "id": "87e8d810",
   "metadata": {
    "papermill": {
     "duration": 0.007379,
     "end_time": "2024-02-26T23:34:56.609898",
     "exception": false,
     "start_time": "2024-02-26T23:34:56.602519",
     "status": "completed"
    },
    "tags": []
   },
   "source": [
    "The upcoming questions work the same way. The only thing that will change are the question numbers. For the next question, you'll call `q1.check()`, `q1.hint()`, `q1.solution()`, for question 2, you'll call `q2.check()`, and so on."
   ]
  },
  {
   "cell_type": "markdown",
   "id": "cfb9c3b4",
   "metadata": {
    "papermill": {
     "duration": 0.007068,
     "end_time": "2024-02-26T23:34:56.624371",
     "exception": false,
     "start_time": "2024-02-26T23:34:56.617303",
     "status": "completed"
    },
    "tags": []
   },
   "source": [
    "<hr/>\n",
    "\n",
    "# 1.\n",
    "\n",
    "Complete the code below. In case it's helpful, here is the table of available arithmetic operations:\n",
    "\n",
    "\n",
    "\n",
    "| Operator     | Name           | Description                                            |\n",
    "|--------------|----------------|--------------------------------------------------------|\n",
    "| ``a + b``    | Addition       | Sum of ``a`` and ``b``                                 |\n",
    "| ``a - b``    | Subtraction    | Difference of ``a`` and ``b``                          |\n",
    "| ``a * b``    | Multiplication | Product of ``a`` and ``b``                             |\n",
    "| ``a / b``    | True division  | Quotient of ``a`` and ``b``                            |\n",
    "| ``a // b``   | Floor division | Quotient of ``a`` and ``b``, removing fractional parts |\n",
    "| ``a % b``    | Modulus        | Integer remainder after division of ``a`` by ``b``     |\n",
    "| ``a ** b``   | Exponentiation | ``a`` raised to the power of ``b``                     |\n",
    "| ``-a``       | Negation       | The negative of ``a``                                  |\n",
    "\n",
    "<span style=\"display:none\"></span>\n"
   ]
  },
  {
   "cell_type": "code",
   "execution_count": 5,
   "id": "0dd29d63",
   "metadata": {
    "execution": {
     "iopub.execute_input": "2024-02-26T23:34:56.641507Z",
     "iopub.status.busy": "2024-02-26T23:34:56.641104Z",
     "iopub.status.idle": "2024-02-26T23:34:56.650370Z",
     "shell.execute_reply": "2024-02-26T23:34:56.649253Z"
    },
    "papermill": {
     "duration": 0.02062,
     "end_time": "2024-02-26T23:34:56.652437",
     "exception": false,
     "start_time": "2024-02-26T23:34:56.631817",
     "status": "completed"
    },
    "tags": []
   },
   "outputs": [
    {
     "data": {
      "application/javascript": [
       "parent.postMessage({\"jupyterEvent\": \"custom.exercise_interaction\", \"data\": {\"outcomeType\": 1, \"valueTowardsCompletion\": 0.25, \"interactionType\": 1, \"questionType\": 1, \"questionId\": \"1_CircleArea\", \"learnToolsVersion\": \"0.3.4\", \"failureMessage\": \"\", \"exceptionClass\": \"\", \"trace\": \"\"}}, \"*\")"
      ],
      "text/plain": [
       "<IPython.core.display.Javascript object>"
      ]
     },
     "metadata": {},
     "output_type": "display_data"
    },
    {
     "data": {
      "text/markdown": [
       "<span style=\"color:#33cc33\">Correct</span>"
      ],
      "text/plain": [
       "Correct"
      ]
     },
     "metadata": {},
     "output_type": "display_data"
    }
   ],
   "source": [
    "pi = 3.14159 # approximate\n",
    "diameter = 3\n",
    "\n",
    "# Create a variable called 'radius' equal to half the diameter\n",
    "radius = diameter/2\n",
    "\n",
    "# Create a variable called 'area', using the formula for the area of a circle: pi times the radius squared\n",
    "area = pi*(radius ** 2) \n",
    "\n",
    "# Check your answer\n",
    "q1.check()"
   ]
  },
  {
   "cell_type": "code",
   "execution_count": 6,
   "id": "48b46e60",
   "metadata": {
    "execution": {
     "iopub.execute_input": "2024-02-26T23:34:56.670034Z",
     "iopub.status.busy": "2024-02-26T23:34:56.669575Z",
     "iopub.status.idle": "2024-02-26T23:34:56.674467Z",
     "shell.execute_reply": "2024-02-26T23:34:56.673307Z"
    },
    "papermill": {
     "duration": 0.016699,
     "end_time": "2024-02-26T23:34:56.676882",
     "exception": false,
     "start_time": "2024-02-26T23:34:56.660183",
     "status": "completed"
    },
    "tags": []
   },
   "outputs": [],
   "source": [
    "# Uncomment and run the lines below if you need help.\n",
    "#q1.hint()\n",
    "#q1.solution()"
   ]
  },
  {
   "cell_type": "markdown",
   "id": "613c7b7e",
   "metadata": {
    "papermill": {
     "duration": 0.007624,
     "end_time": "2024-02-26T23:34:56.692395",
     "exception": false,
     "start_time": "2024-02-26T23:34:56.684771",
     "status": "completed"
    },
    "tags": []
   },
   "source": [
    "<hr/>\n",
    "\n",
    "# 2.\n",
    "\n",
    "Add code to the following cell to swap variables `a` and `b` (so that `a` refers to the object previously referred to by `b` and vice versa)."
   ]
  },
  {
   "cell_type": "code",
   "execution_count": 7,
   "id": "1336ffdf",
   "metadata": {
    "execution": {
     "iopub.execute_input": "2024-02-26T23:34:56.713183Z",
     "iopub.status.busy": "2024-02-26T23:34:56.712221Z",
     "iopub.status.idle": "2024-02-26T23:34:56.723603Z",
     "shell.execute_reply": "2024-02-26T23:34:56.722518Z"
    },
    "papermill": {
     "duration": 0.025897,
     "end_time": "2024-02-26T23:34:56.726263",
     "exception": false,
     "start_time": "2024-02-26T23:34:56.700366",
     "status": "completed"
    },
    "tags": []
   },
   "outputs": [
    {
     "data": {
      "application/javascript": [
       "parent.postMessage({\"jupyterEvent\": \"custom.exercise_interaction\", \"data\": {\"outcomeType\": 2, \"failureMessage\": \"Did you write something like...\\n```python\\na = [3, 2, 1]\\nb = [1, 2, 3]```\\n?\\nThat's not an unreasonable think to try, but there are two problems:\\n1. You're relying on knowing the values of `a` and `b` ahead of time. What if you wanted to swap two variables whose values weren't known to you ahead of time?\\n2. Your code actually results in `a` referring to a *new* object (whose value is the same as `b`'s previous value), and similarly for `b`. To see why this is, consider that the code...\\n```python\\na = [1, 2, 3]\\nb = [1, 2, 3]```\\nIs actually *different* from:\\n```python\\na = [1, 2, 3]\\nb = a```\\nIn the second case, `a` and `b` refer to the same object. In the first case, `a` and `b` refer to different objects which happen to be equivalent. This may seem like a merely philosophical difference, but it matters when we start *modifying* objects. In the second scenario, if we run `a.append(4)`, then `a` and `b` would both have the value `[1, 2, 3, 4]`. If we run `a.append(4)` in the first scenario, `a` refers to `[1, 2, 3, 4]`, but `b` remains `[1, 2, 3]`. (We'll talk more about lists and mutability in a later lesson.)\", \"interactionType\": 1, \"questionType\": 2, \"questionId\": \"2_VariableSwap\", \"learnToolsVersion\": \"0.3.4\", \"valueTowardsCompletion\": 0.0, \"exceptionClass\": \"\", \"trace\": \"\"}}, \"*\")"
      ],
      "text/plain": [
       "<IPython.core.display.Javascript object>"
      ]
     },
     "metadata": {},
     "output_type": "display_data"
    },
    {
     "data": {
      "text/markdown": [
       "<span style=\"color:#cc3333\">Incorrect:</span> Did you write something like...\n",
       "```python\n",
       "a = [3, 2, 1]\n",
       "b = [1, 2, 3]```\n",
       "?\n",
       "That's not an unreasonable think to try, but there are two problems:\n",
       "1. You're relying on knowing the values of `a` and `b` ahead of time. What if you wanted to swap two variables whose values weren't known to you ahead of time?\n",
       "2. Your code actually results in `a` referring to a *new* object (whose value is the same as `b`'s previous value), and similarly for `b`. To see why this is, consider that the code...\n",
       "```python\n",
       "a = [1, 2, 3]\n",
       "b = [1, 2, 3]```\n",
       "Is actually *different* from:\n",
       "```python\n",
       "a = [1, 2, 3]\n",
       "b = a```\n",
       "In the second case, `a` and `b` refer to the same object. In the first case, `a` and `b` refer to different objects which happen to be equivalent. This may seem like a merely philosophical difference, but it matters when we start *modifying* objects. In the second scenario, if we run `a.append(4)`, then `a` and `b` would both have the value `[1, 2, 3, 4]`. If we run `a.append(4)` in the first scenario, `a` refers to `[1, 2, 3, 4]`, but `b` remains `[1, 2, 3]`. (We'll talk more about lists and mutability in a later lesson.)"
      ],
      "text/plain": [
       "Incorrect: Did you write something like...\n",
       "```python\n",
       "a = [3, 2, 1]\n",
       "b = [1, 2, 3]```\n",
       "?\n",
       "That's not an unreasonable think to try, but there are two problems:\n",
       "1. You're relying on knowing the values of `a` and `b` ahead of time. What if you wanted to swap two variables whose values weren't known to you ahead of time?\n",
       "2. Your code actually results in `a` referring to a *new* object (whose value is the same as `b`'s previous value), and similarly for `b`. To see why this is, consider that the code...\n",
       "```python\n",
       "a = [1, 2, 3]\n",
       "b = [1, 2, 3]```\n",
       "Is actually *different* from:\n",
       "```python\n",
       "a = [1, 2, 3]\n",
       "b = a```\n",
       "In the second case, `a` and `b` refer to the same object. In the first case, `a` and `b` refer to different objects which happen to be equivalent. This may seem like a merely philosophical difference, but it matters when we start *modifying* objects. In the second scenario, if we run `a.append(4)`, then `a` and `b` would both have the value `[1, 2, 3, 4]`. If we run `a.append(4)` in the first scenario, `a` refers to `[1, 2, 3, 4]`, but `b` remains `[1, 2, 3]`. (We'll talk more about lists and mutability in a later lesson.)"
      ]
     },
     "metadata": {},
     "output_type": "display_data"
    }
   ],
   "source": [
    "########### Setup code - don't touch this part ######################\n",
    "# If you're curious, these are examples of lists. We'll talk about \n",
    "# them in depth a few lessons from now. For now, just know that they're\n",
    "# yet another type of Python object, like int or float.\n",
    "a = [1, 2, 3]\n",
    "b = [3, 2, 1]\n",
    "q2.store_original_ids()\n",
    "######################################################################\n",
    "\n",
    "# Your code goes here. Swap the values to which a and b refer.\n",
    "# If you get stuck, you can always uncomment one or both of the lines in\n",
    "# the next cell for a hint, or to peek at the solution.\n",
    "\n",
    "######################################################################\n",
    "c = a.copy()\n",
    "a = b\n",
    "b = c\n",
    "\n",
    "# Check your answer\n",
    "q2.check()"
   ]
  },
  {
   "cell_type": "code",
   "execution_count": 8,
   "id": "79a84800",
   "metadata": {
    "execution": {
     "iopub.execute_input": "2024-02-26T23:34:56.744632Z",
     "iopub.status.busy": "2024-02-26T23:34:56.744262Z",
     "iopub.status.idle": "2024-02-26T23:34:56.748677Z",
     "shell.execute_reply": "2024-02-26T23:34:56.747412Z"
    },
    "papermill": {
     "duration": 0.01663,
     "end_time": "2024-02-26T23:34:56.751055",
     "exception": false,
     "start_time": "2024-02-26T23:34:56.734425",
     "status": "completed"
    },
    "tags": []
   },
   "outputs": [],
   "source": [
    "#q2.hint()"
   ]
  },
  {
   "cell_type": "code",
   "execution_count": 9,
   "id": "e48ed51e",
   "metadata": {
    "execution": {
     "iopub.execute_input": "2024-02-26T23:34:56.769246Z",
     "iopub.status.busy": "2024-02-26T23:34:56.768833Z",
     "iopub.status.idle": "2024-02-26T23:34:56.773219Z",
     "shell.execute_reply": "2024-02-26T23:34:56.772025Z"
    },
    "papermill": {
     "duration": 0.016157,
     "end_time": "2024-02-26T23:34:56.775356",
     "exception": false,
     "start_time": "2024-02-26T23:34:56.759199",
     "status": "completed"
    },
    "tags": []
   },
   "outputs": [],
   "source": [
    "#q2.solution()"
   ]
  },
  {
   "cell_type": "markdown",
   "id": "d506c522",
   "metadata": {
    "papermill": {
     "duration": 0.009389,
     "end_time": "2024-02-26T23:34:56.793062",
     "exception": false,
     "start_time": "2024-02-26T23:34:56.783673",
     "status": "completed"
    },
    "tags": []
   },
   "source": [
    "<hr/>\n",
    "\n",
    "# 3a.\n",
    "\n",
    "Add parentheses to the following expression so that it evaluates to 1."
   ]
  },
  {
   "cell_type": "code",
   "execution_count": 10,
   "id": "39085d09",
   "metadata": {
    "execution": {
     "iopub.execute_input": "2024-02-26T23:34:56.813536Z",
     "iopub.status.busy": "2024-02-26T23:34:56.812767Z",
     "iopub.status.idle": "2024-02-26T23:34:56.819834Z",
     "shell.execute_reply": "2024-02-26T23:34:56.818711Z"
    },
    "papermill": {
     "duration": 0.019622,
     "end_time": "2024-02-26T23:34:56.822615",
     "exception": false,
     "start_time": "2024-02-26T23:34:56.802993",
     "status": "completed"
    },
    "tags": []
   },
   "outputs": [
    {
     "data": {
      "text/plain": [
       "1"
      ]
     },
     "execution_count": 10,
     "metadata": {},
     "output_type": "execute_result"
    }
   ],
   "source": [
    "(5 - 3) // 2"
   ]
  },
  {
   "cell_type": "code",
   "execution_count": 11,
   "id": "1789792a",
   "metadata": {
    "execution": {
     "iopub.execute_input": "2024-02-26T23:34:56.843473Z",
     "iopub.status.busy": "2024-02-26T23:34:56.842515Z",
     "iopub.status.idle": "2024-02-26T23:34:56.847605Z",
     "shell.execute_reply": "2024-02-26T23:34:56.846756Z"
    },
    "papermill": {
     "duration": 0.018322,
     "end_time": "2024-02-26T23:34:56.849726",
     "exception": false,
     "start_time": "2024-02-26T23:34:56.831404",
     "status": "completed"
    },
    "tags": []
   },
   "outputs": [],
   "source": [
    "#q3.a.hint()"
   ]
  },
  {
   "cell_type": "code",
   "execution_count": 12,
   "id": "924dff5b",
   "metadata": {
    "execution": {
     "iopub.execute_input": "2024-02-26T23:34:56.868117Z",
     "iopub.status.busy": "2024-02-26T23:34:56.867703Z",
     "iopub.status.idle": "2024-02-26T23:34:56.876832Z",
     "shell.execute_reply": "2024-02-26T23:34:56.875777Z"
    },
    "papermill": {
     "duration": 0.020975,
     "end_time": "2024-02-26T23:34:56.878962",
     "exception": false,
     "start_time": "2024-02-26T23:34:56.857987",
     "status": "completed"
    },
    "tags": []
   },
   "outputs": [
    {
     "data": {
      "application/javascript": [
       "parent.postMessage({\"jupyterEvent\": \"custom.exercise_interaction\", \"data\": {\"interactionType\": 3, \"questionType\": 4, \"questionId\": \"3.1_ArithmeticParensEasy\", \"learnToolsVersion\": \"0.3.4\", \"valueTowardsCompletion\": 0.0, \"failureMessage\": \"\", \"exceptionClass\": \"\", \"trace\": \"\", \"outcomeType\": 4}}, \"*\")"
      ],
      "text/plain": [
       "<IPython.core.display.Javascript object>"
      ]
     },
     "metadata": {},
     "output_type": "display_data"
    },
    {
     "data": {
      "text/markdown": [
       "<span style=\"color:#33cc99\">Solution:</span> \n",
       "```python\n",
       "(5 - 3) // 2\n",
       "```"
      ],
      "text/plain": [
       "Solution: \n",
       "```python\n",
       "(5 - 3) // 2\n",
       "```"
      ]
     },
     "metadata": {},
     "output_type": "display_data"
    }
   ],
   "source": [
    "# Check your answer (Run this code cell to receive credit!)\n",
    "q3.a.solution()"
   ]
  },
  {
   "cell_type": "markdown",
   "id": "d8053287",
   "metadata": {
    "papermill": {
     "duration": 0.008897,
     "end_time": "2024-02-26T23:34:56.896243",
     "exception": false,
     "start_time": "2024-02-26T23:34:56.887346",
     "status": "completed"
    },
    "tags": []
   },
   "source": [
    "# 3b.  <span title=\"A bit spicy\" style=\"color: darkgreen \">🌶️</span>\n",
    "\n",
    "<small>Questions, like this one, marked a spicy pepper are a bit harder.</small>\n",
    "\n",
    "Add parentheses to the following expression so that it evaluates to 0."
   ]
  },
  {
   "cell_type": "code",
   "execution_count": 13,
   "id": "223b782b",
   "metadata": {
    "execution": {
     "iopub.execute_input": "2024-02-26T23:34:56.915399Z",
     "iopub.status.busy": "2024-02-26T23:34:56.914447Z",
     "iopub.status.idle": "2024-02-26T23:34:56.921435Z",
     "shell.execute_reply": "2024-02-26T23:34:56.920445Z"
    },
    "papermill": {
     "duration": 0.018775,
     "end_time": "2024-02-26T23:34:56.923476",
     "exception": false,
     "start_time": "2024-02-26T23:34:56.904701",
     "status": "completed"
    },
    "tags": []
   },
   "outputs": [
    {
     "data": {
      "text/plain": [
       "0"
      ]
     },
     "execution_count": 13,
     "metadata": {},
     "output_type": "execute_result"
    }
   ],
   "source": [
    "8 - (3 * 2) - (1 + 1)"
   ]
  },
  {
   "cell_type": "code",
   "execution_count": 14,
   "id": "093306f1",
   "metadata": {
    "execution": {
     "iopub.execute_input": "2024-02-26T23:34:56.944756Z",
     "iopub.status.busy": "2024-02-26T23:34:56.944107Z",
     "iopub.status.idle": "2024-02-26T23:34:56.948659Z",
     "shell.execute_reply": "2024-02-26T23:34:56.947762Z"
    },
    "papermill": {
     "duration": 0.016853,
     "end_time": "2024-02-26T23:34:56.950957",
     "exception": false,
     "start_time": "2024-02-26T23:34:56.934104",
     "status": "completed"
    },
    "tags": []
   },
   "outputs": [],
   "source": [
    "#q3.b.hint()"
   ]
  },
  {
   "cell_type": "code",
   "execution_count": 15,
   "id": "13eed031",
   "metadata": {
    "execution": {
     "iopub.execute_input": "2024-02-26T23:34:56.970733Z",
     "iopub.status.busy": "2024-02-26T23:34:56.970089Z",
     "iopub.status.idle": "2024-02-26T23:34:56.978981Z",
     "shell.execute_reply": "2024-02-26T23:34:56.977608Z"
    },
    "papermill": {
     "duration": 0.021347,
     "end_time": "2024-02-26T23:34:56.981183",
     "exception": false,
     "start_time": "2024-02-26T23:34:56.959836",
     "status": "completed"
    },
    "tags": []
   },
   "outputs": [
    {
     "data": {
      "application/javascript": [
       "parent.postMessage({\"jupyterEvent\": \"custom.exercise_interaction\", \"data\": {\"interactionType\": 3, \"questionType\": 4, \"questionId\": \"3.2_ArithmeticParensHard\", \"learnToolsVersion\": \"0.3.4\", \"valueTowardsCompletion\": 0.0, \"failureMessage\": \"\", \"exceptionClass\": \"\", \"trace\": \"\", \"outcomeType\": 4}}, \"*\")"
      ],
      "text/plain": [
       "<IPython.core.display.Javascript object>"
      ]
     },
     "metadata": {},
     "output_type": "display_data"
    },
    {
     "data": {
      "text/markdown": [
       "<span style=\"color:#33cc99\">Solution:</span> `(8 - 3) * (2 - (1 + 1))` is one solution. There may be others."
      ],
      "text/plain": [
       "Solution: `(8 - 3) * (2 - (1 + 1))` is one solution. There may be others."
      ]
     },
     "metadata": {},
     "output_type": "display_data"
    }
   ],
   "source": [
    "# Check your answer (Run this code cell to receive credit!)\n",
    "q3.b.solution()"
   ]
  },
  {
   "cell_type": "markdown",
   "id": "ada9af73",
   "metadata": {
    "papermill": {
     "duration": 0.008291,
     "end_time": "2024-02-26T23:34:57.000515",
     "exception": false,
     "start_time": "2024-02-26T23:34:56.992224",
     "status": "completed"
    },
    "tags": []
   },
   "source": [
    "<hr/>\n",
    "\n",
    "# 4. \n",
    "Alice, Bob and Carol have agreed to pool their Halloween candy and split it evenly among themselves.\n",
    "For the sake of their friendship, any candies left over will be smashed. For example, if they collectively\n",
    "bring home 91 candies, they'll take 30 each and smash 1.\n",
    "\n",
    "Write an arithmetic expression below to calculate how many candies they must smash for a given haul."
   ]
  },
  {
   "cell_type": "code",
   "execution_count": 16,
   "id": "aef92271",
   "metadata": {
    "execution": {
     "iopub.execute_input": "2024-02-26T23:34:57.020229Z",
     "iopub.status.busy": "2024-02-26T23:34:57.019548Z",
     "iopub.status.idle": "2024-02-26T23:34:57.029358Z",
     "shell.execute_reply": "2024-02-26T23:34:57.028213Z"
    },
    "papermill": {
     "duration": 0.022083,
     "end_time": "2024-02-26T23:34:57.031426",
     "exception": false,
     "start_time": "2024-02-26T23:34:57.009343",
     "status": "completed"
    },
    "tags": []
   },
   "outputs": [
    {
     "data": {
      "application/javascript": [
       "parent.postMessage({\"jupyterEvent\": \"custom.exercise_interaction\", \"data\": {\"outcomeType\": 1, \"valueTowardsCompletion\": 0.25, \"interactionType\": 1, \"questionType\": 1, \"questionId\": \"4_CandySplitting\", \"learnToolsVersion\": \"0.3.4\", \"failureMessage\": \"\", \"exceptionClass\": \"\", \"trace\": \"\"}}, \"*\")"
      ],
      "text/plain": [
       "<IPython.core.display.Javascript object>"
      ]
     },
     "metadata": {},
     "output_type": "display_data"
    },
    {
     "data": {
      "text/markdown": [
       "<span style=\"color:#33cc33\">Correct</span>"
      ],
      "text/plain": [
       "Correct"
      ]
     },
     "metadata": {},
     "output_type": "display_data"
    }
   ],
   "source": [
    "# Variables representing the number of candies collected by alice, bob, and carol\n",
    "alice_candies = 121\n",
    "bob_candies = 77\n",
    "carol_candies = 109\n",
    "\n",
    "# Your code goes here! Replace the right-hand side of this assignment with an expression\n",
    "# involving alice_candies, bob_candies, and carol_candies\n",
    "to_smash = -1\n",
    "alice_candies = 121\n",
    "bob_candies = 77\n",
    "carol_candies = 109\n",
    "\n",
    "to_smash = (alice_candies + bob_candies + carol_candies)%3 \n",
    "# Check your answer\n",
    "q4.check()"
   ]
  },
  {
   "cell_type": "code",
   "execution_count": 17,
   "id": "60edcbf0",
   "metadata": {
    "execution": {
     "iopub.execute_input": "2024-02-26T23:34:57.051418Z",
     "iopub.status.busy": "2024-02-26T23:34:57.050737Z",
     "iopub.status.idle": "2024-02-26T23:34:57.055172Z",
     "shell.execute_reply": "2024-02-26T23:34:57.054205Z"
    },
    "papermill": {
     "duration": 0.0171,
     "end_time": "2024-02-26T23:34:57.057400",
     "exception": false,
     "start_time": "2024-02-26T23:34:57.040300",
     "status": "completed"
    },
    "tags": []
   },
   "outputs": [],
   "source": [
    "#q4.hint()\n",
    "#q4.solution()"
   ]
  },
  {
   "cell_type": "markdown",
   "id": "7b335a13",
   "metadata": {
    "papermill": {
     "duration": 0.008727,
     "end_time": "2024-02-26T23:34:57.075156",
     "exception": false,
     "start_time": "2024-02-26T23:34:57.066429",
     "status": "completed"
    },
    "tags": []
   },
   "source": [
    "# Keep Going\n",
    "\n",
    "Next up, you'll **[learn to write new functions and understand functions others write](https://www.kaggle.com/colinmorris/functions-and-getting-help)**. This will make you at least 10 times more productive as a Python programmer. "
   ]
  },
  {
   "cell_type": "markdown",
   "id": "3ed7419b",
   "metadata": {
    "papermill": {
     "duration": 0.008585,
     "end_time": "2024-02-26T23:34:57.092592",
     "exception": false,
     "start_time": "2024-02-26T23:34:57.084007",
     "status": "completed"
    },
    "tags": []
   },
   "source": [
    "---\n",
    "\n",
    "\n",
    "\n",
    "\n",
    "*Have questions or comments? Visit the [course discussion forum](https://www.kaggle.com/learn/python/discussion) to chat with other learners.*"
   ]
  }
 ],
 "metadata": {
  "kaggle": {
   "accelerator": "none",
   "dataSources": [],
   "isGpuEnabled": false,
   "isInternetEnabled": false,
   "language": "python",
   "sourceType": "notebook"
  },
  "kernelspec": {
   "display_name": "Python 3",
   "language": "python",
   "name": "python3"
  },
  "language_info": {
   "codemirror_mode": {
    "name": "ipython",
    "version": 3
   },
   "file_extension": ".py",
   "mimetype": "text/x-python",
   "name": "python",
   "nbconvert_exporter": "python",
   "pygments_lexer": "ipython3",
   "version": "3.10.13"
  },
  "learntools_metadata": {
   "lesson_index": 0,
   "type": "exercise"
  },
  "papermill": {
   "default_parameters": {},
   "duration": 5.216305,
   "end_time": "2024-02-26T23:34:57.622841",
   "environment_variables": {},
   "exception": null,
   "input_path": "__notebook__.ipynb",
   "output_path": "__notebook__.ipynb",
   "parameters": {},
   "start_time": "2024-02-26T23:34:52.406536",
   "version": "2.5.0"
  }
 },
 "nbformat": 4,
 "nbformat_minor": 5
}
